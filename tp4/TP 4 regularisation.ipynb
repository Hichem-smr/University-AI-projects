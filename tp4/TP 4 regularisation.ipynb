{
 "cells": [
  {
   "cell_type": "markdown",
   "metadata": {},
   "source": [
    "# TP 4 Regression logistique avec régularisation\n",
    "Dans ce TP, nous aimerions faire une classification binaire en utilisant la régression.\n",
    "\n",
    "Pour ce faire, nous étudierons un ensemble de données avec la variable  (y) representant la commercialisation d'un profuit et les caractéristiques (X) representant les résultat des tests de qualité test 1 et test 2 du produit.\n",
    "\n",
    "La prédiction se fera avec l'agorithme de descente du gradient avec régularisation."
   ]
  },
  {
   "cell_type": "markdown",
   "metadata": {},
   "source": [
    "# Importation des librairies necessaires au travail"
   ]
  },
  {
   "cell_type": "code",
   "execution_count": 156,
   "metadata": {},
   "outputs": [],
   "source": [
    "import numpy as np\n",
    "import matplotlib.pyplot as plt\n"
   ]
  },
  {
   "cell_type": "markdown",
   "metadata": {},
   "source": [
    "# Lecture des fichiers de données\n",
    "Pour ce TP, nous allons lire les données à partir d'un fichier csv."
   ]
  },
  {
   "cell_type": "code",
   "execution_count": 157,
   "metadata": {},
   "outputs": [
    {
     "data": {
      "text/plain": [
       "(118, 3)"
      ]
     },
     "execution_count": 157,
     "metadata": {},
     "output_type": "execute_result"
    }
   ],
   "source": [
    "# données\n",
    "data = np.genfromtxt('data.csv', delimiter=',', dtype=float)\n",
    "data.shape"
   ]
  },
  {
   "cell_type": "markdown",
   "metadata": {},
   "source": [
    "Dans ces données (data), la première colonne represente la première note, la deuxieme colonne la deuxième note et la troisième colonne represente la commercialisation (1 oui 0 non).\n",
    "\n",
    "Chaque ligne represente un exemple de notre ensemble de données. \n",
    "\n",
    "Mettons ces données dans leus vecteurs correspondants."
   ]
  },
  {
   "cell_type": "code",
   "execution_count": 158,
   "metadata": {},
   "outputs": [],
   "source": [
    "# rajoutons l'ordonnée à l'origine theta 0\n",
    "intercept=np.ones((data.shape[0],1))\n",
    "X=np.column_stack((intercept,data[:,0:2]))\n",
    "y = data[:, 2]\n",
    "# forcer y à avoir une seule colonne\n",
    "y = y.reshape(y.shape[0], 1)"
   ]
  },
  {
   "cell_type": "code",
   "execution_count": 159,
   "metadata": {},
   "outputs": [
    {
     "name": "stdout",
     "output_type": "stream",
     "text": [
      "X (118, 3)  y  (118, 1)\n"
     ]
    }
   ],
   "source": [
    "print('X', X.shape ,' y ', y.shape)"
   ]
  },
  {
   "cell_type": "code",
   "execution_count": 160,
   "metadata": {},
   "outputs": [
    {
     "data": {
      "text/plain": [
       "Text(0, 0.5, 'Note 2')"
      ]
     },
     "execution_count": 160,
     "metadata": {},
     "output_type": "execute_result"
    },
    {
     "data": {
      "image/png": "[encoded data removed]",
      "text/plain": [
       "<Figure size 432x288 with 1 Axes>"
      ]
     },
     "metadata": {
      "needs_background": "light"
     },
     "output_type": "display_data"
    }
   ],
   "source": [
    "plt.scatter(X[np.where(y==1),1],X[np.where(y==1),2], label=\"oui\",marker ='o')\n",
    "plt.scatter(X[np.where(y==0),1],X[np.where(y==0),2], label=\"non\",marker ='x')\n",
    "plt.xlabel('Note 1')\n",
    "plt.ylabel('Note 2')"
   ]
  },
  {
   "cell_type": "markdown",
   "metadata": {},
   "source": [
    "# Transformation de données\n",
    "Dans cette partie, nous aimerions transformer nos données afin d'avoir une fonction polynomiale de degrée 6.\n",
    "\n",
    "La fonction sera:\n",
    "\n",
    "$x_0=1$\n",
    "\n",
    "$x_1=x_1$\n",
    "\n",
    "$x_2=x_2$\n",
    "\n",
    "$x_3={x_1}^2$\n",
    "\n",
    "$x_4={x_1}x_2$\n",
    "\n",
    "$x_5={x_2}^2$\n",
    "\n",
    "$x_6={x_1}^3$\n",
    "\n",
    "$x_7={x_1}^2 x_2$\n",
    "\n",
    "$x_8= x_1 {x_2}^2$\n",
    "\n",
    "$x_9= {x_2}^3$\n",
    "\n",
    "...\n"
   ]
  },
  {
   "cell_type": "markdown",
   "metadata": {},
   "source": [
    "Pour un polynme de degrée 6 à 2 variables nous aurons 28 caracteristiques\n",
    "\n",
    "**Question**: comment avons nous trouvé ce chiffre?\n",
    "\n",
    "**Astuce**: référez vous aux probabilités"
   ]
  },
  {
   "cell_type": "code",
   "execution_count": 161,
   "metadata": {},
   "outputs": [],
   "source": [
    "def mapping(X):\n",
    "    \n",
    "    cols = 28\n",
    "    degree=7\n",
    "    outX= np.ones((X.shape[0],cols))\n",
    "    X1=X[:,1]\n",
    "    X2=X[:,2]\n",
    "    k=0\n",
    "    for i in range(degree):\n",
    "        for j in range(i+1):\n",
    "            outX[:, k] = np.power(X1,i-j)*(np.power(X2,j));\n",
    "            k=k+1\n",
    "    return outX    \n"
   ]
  },
  {
   "cell_type": "code",
   "execution_count": 162,
   "metadata": {},
   "outputs": [
    {
     "data": {
      "text/plain": [
       "(118, 28)"
      ]
     },
     "execution_count": 162,
     "metadata": {},
     "output_type": "execute_result"
    }
   ],
   "source": [
    "X2=mapping(X)\n",
    "X2.shape\n"
   ]
  },
  {
   "cell_type": "markdown",
   "metadata": {},
   "source": [
    "# Descente du Gradient : Préparation des fonctions"
   ]
  },
  {
   "cell_type": "markdown",
   "metadata": {},
   "source": [
    "0- Fonction mpgistique (Sigmoid)"
   ]
  },
  {
   "cell_type": "code",
   "execution_count": 163,
   "metadata": {},
   "outputs": [],
   "source": [
    "def Sigmoid(z):\n",
    "    # pour une valeur donnée, cette fonction calculera sa sigmoid\n",
    "    return 1/(1+np.exp(-z));\n",
    " "
   ]
  },
  {
   "cell_type": "code",
   "execution_count": 164,
   "metadata": {},
   "outputs": [
    {
     "data": {
      "text/plain": [
       "4.5397868702434395e-05"
      ]
     },
     "execution_count": 164,
     "metadata": {},
     "output_type": "execute_result"
    }
   ],
   "source": [
    "k=Sigmoid(-10)\n",
    "k"
   ]
  },
  {
   "cell_type": "markdown",
   "metadata": {},
   "source": [
    "1- Calcul du coût\n",
    "\n",
    "Cette fonction servira à calculer le cout $J(\\theta_0,\\theta_1)$\n",
    "\n",
    "Elle prendra l'ensemble de données d'apprentissage en entrée ainsi que les paramètres définis initialement"
   ]
  },
  {
   "cell_type": "code",
   "execution_count": 165,
   "metadata": {},
   "outputs": [],
   "source": [
    "def computeCost(X, y, theta, lambda_):\n",
    "    y_hat = Sigmoid(X.dot(theta))\n",
    "    cost = -(y * np.log(y_hat) + (1 - y) * np.log(1 - y_hat)).mean(axis=0)\n",
    "    cost = cost + lambda_ / (2 * X.shape[0]) * (theta[1:] ** 2).sum(axis=0)\n",
    "    return cost[0]"
   ]
  },
  {
   "cell_type": "markdown",
   "metadata": {},
   "source": [
    "2- Fonction de la descente du gradient\n",
    "\n",
    "Cette fonction mettra à jour les paramètres $\\theta_0,\\theta_1$ jusqu'à convergence: atteinte du nombre d'itérations max, ou dérivée assez petite."
   ]
  },
  {
   "cell_type": "code",
   "execution_count": 1,
   "metadata": {},
   "outputs": [],
   "source": [
    "def gradientDescent(X, y, theta, alpha, iterations, lambda_):\n",
    "    saved_theta =  np.zeros((theta.shape[0],iterations))\n",
    "    costs = np.zeros(iterations)\n",
    "    for i in range(iterations):\n",
    "        reduction = theta * lambda_/len(y)\n",
    "        reduction[0][0] = 0 ##theta0 wont receive the reduction effect\n",
    "        Trans_X = X.T\n",
    "        y_hat = Sigmoid(np.matmul(X,theta))\n",
    "        error = y_hat - y\n",
    "        theta = theta - (alpha * (Trans_X.dot(error) + reduction))\n",
    "        saved_theta[:,i] = theta[:,0]\n",
    "        costs[i] = computeCost(X, y, theta, lambda_)\n",
    "    \n",
    "    return theta, saved_theta, costs"
   ]
  },
  {
   "cell_type": "markdown",
   "metadata": {},
   "source": [
    "# Descente du Gradient : Appel des fonctions"
   ]
  },
  {
   "cell_type": "markdown",
   "metadata": {},
   "source": [
    "Initialisation de $\\theta_0$ et $\\theta_1$"
   ]
  },
  {
   "cell_type": "code",
   "execution_count": 167,
   "metadata": {},
   "outputs": [
    {
     "data": {
      "text/plain": [
       "(28, 1)"
      ]
     },
     "execution_count": 167,
     "metadata": {},
     "output_type": "execute_result"
    }
   ],
   "source": [
    "n=X2.shape[1]\n",
    "theta = np.zeros((n, 1))\n",
    "theta.shape"
   ]
  },
  {
   "cell_type": "markdown",
   "metadata": {},
   "source": [
    "Calculer le cout initial"
   ]
  },
  {
   "cell_type": "code",
   "execution_count": 168,
   "metadata": {},
   "outputs": [
    {
     "name": "stdout",
     "output_type": "stream",
     "text": [
      "0.6931471805599454\n"
     ]
    }
   ],
   "source": [
    "lambda_ = 1\n",
    "initialCost=computeCost(X2, y, theta, lambda_)\n",
    "print(initialCost)"
   ]
  },
  {
   "cell_type": "markdown",
   "metadata": {},
   "source": [
    "Appel des la fonction de calcul du gradient"
   ]
  },
  {
   "cell_type": "code",
   "execution_count": 169,
   "metadata": {},
   "outputs": [
    {
     "data": {
      "text/plain": [
       "array([[ 3.4948337 ],\n",
       "       [ 2.43020572],\n",
       "       [ 3.86990151],\n",
       "       [-5.13566415],\n",
       "       [-4.72591809],\n",
       "       [-5.80178501],\n",
       "       [ 1.18519637],\n",
       "       [-1.54942232],\n",
       "       [-0.54069296],\n",
       "       [-0.60527731],\n",
       "       [-4.39467987],\n",
       "       [ 0.82838687],\n",
       "       [-2.51012007],\n",
       "       [-1.86342833],\n",
       "       [-3.63360819],\n",
       "       [-0.81450576],\n",
       "       [-0.65423129],\n",
       "       [ 0.96696626],\n",
       "       [-1.67612418],\n",
       "       [-1.80757715],\n",
       "       [ 0.22214245],\n",
       "       [-3.71587148],\n",
       "       [ 0.66438509],\n",
       "       [-1.05370157],\n",
       "       [ 0.58894135],\n",
       "       [-1.64393416],\n",
       "       [-1.55479282],\n",
       "       [-1.20702328]])"
      ]
     },
     "execution_count": 169,
     "metadata": {},
     "output_type": "execute_result"
    }
   ],
   "source": [
    "# paramètres\n",
    "iterations = 1500;\n",
    "alpha = 0.01;\n",
    "\n",
    "# paramètre de regression\n",
    "\n",
    "# Appel\n",
    "theta ,thetas, costs = gradientDescent(X2, y, theta, alpha, iterations, lambda_)\n",
    "theta"
   ]
  },
  {
   "cell_type": "markdown",
   "metadata": {},
   "source": [
    "Traçage de la fonction du coût"
   ]
  },
  {
   "cell_type": "markdown",
   "metadata": {},
   "source": [
    "Notons que $\\theta^T  x$ est équivalent à $X  \\theta $ où $X= \\begin{pmatrix}\n",
    "..(x^{(1)})^T..\\\\\n",
    "..(x^{(2)})^T..\\\\\n",
    ".\\\\\n",
    ".\\\\\n",
    ".\\\\\n",
    "..(x^{(m)})^T..\n",
    "\\end{pmatrix} $"
   ]
  },
  {
   "cell_type": "markdown",
   "metadata": {},
   "source": [
    "# Dessin de la limite de decision (Descision Boundary)\n",
    "Dans cette partie, nous aimerions dessiner la ligne separatrice d nos données"
   ]
  },
  {
   "cell_type": "code",
   "execution_count": 170,
   "metadata": {},
   "outputs": [],
   "source": [
    "def drawCircle(X, y, theta):\n",
    "    x1 = np.linspace(X[:,1].min(), X[:,1].max(), 120)\n",
    "    x2 = np.linspace(X[:,2].min(), X[:,2].max(), 120)\n",
    "    x1, x2 = np.meshgrid(x1, x2)\n",
    "    x = np.c_[np.ones(x1.size), x1.ravel(), x2.ravel()]\n",
    "    fy = (mapping(x) @ theta)\n",
    "    fy = fy.reshape(x1.shape)\n",
    "    plt.contour(x1, x2, fy, levels=[0], colors= \"black\", linestyles=\"dashed\", linewidths=3)\n",
    "    plt.scatter(X[np.where(y==1),1],X[np.where(y==1),2], label=\"y=1\",marker ='o')\n",
    "    plt.scatter(X[np.where(y==0),1],X[np.where(y==0),2], label=\"y=0\",marker ='x')\n",
    "    plt.xlabel('x 1')\n",
    "    plt.ylabel('x 2')\n"
   ]
  },
  {
   "cell_type": "markdown",
   "metadata": {},
   "source": [
    "# Classification (Prédiction)\n",
    "Ici il serait interessant de calculer la prédiction en utilisant un seuil\n",
    "i.e. si h>seuil alors classe =1 sinon classe = 0"
   ]
  },
  {
   "cell_type": "code",
   "execution_count": 171,
   "metadata": {},
   "outputs": [
    {
     "name": "stdout",
     "output_type": "stream",
     "text": [
      "[[1.]\n",
      " [1.]\n",
      " [1.]\n",
      " [1.]\n",
      " [1.]\n",
      " [1.]\n",
      " [1.]\n",
      " [1.]\n",
      " [1.]\n",
      " [1.]\n",
      " [1.]\n",
      " [1.]\n",
      " [1.]\n",
      " [1.]\n",
      " [1.]\n",
      " [1.]\n",
      " [1.]\n",
      " [1.]\n",
      " [1.]\n",
      " [1.]\n",
      " [0.]\n",
      " [0.]\n",
      " [0.]\n",
      " [0.]\n",
      " [1.]\n",
      " [0.]\n",
      " [1.]\n",
      " [0.]\n",
      " [1.]\n",
      " [1.]\n",
      " [0.]\n",
      " [1.]\n",
      " [1.]\n",
      " [1.]\n",
      " [1.]\n",
      " [1.]\n",
      " [1.]\n",
      " [1.]\n",
      " [1.]\n",
      " [1.]\n",
      " [1.]\n",
      " [1.]\n",
      " [1.]\n",
      " [1.]\n",
      " [1.]\n",
      " [1.]\n",
      " [0.]\n",
      " [1.]\n",
      " [0.]\n",
      " [1.]\n",
      " [1.]\n",
      " [1.]\n",
      " [1.]\n",
      " [1.]\n",
      " [1.]\n",
      " [1.]\n",
      " [1.]\n",
      " [1.]\n",
      " [0.]\n",
      " [0.]\n",
      " [1.]\n",
      " [0.]\n",
      " [0.]\n",
      " [0.]\n",
      " [0.]\n",
      " [0.]\n",
      " [0.]\n",
      " [0.]\n",
      " [0.]\n",
      " [0.]\n",
      " [0.]\n",
      " [0.]\n",
      " [0.]\n",
      " [0.]\n",
      " [0.]\n",
      " [0.]\n",
      " [1.]\n",
      " [1.]\n",
      " [0.]\n",
      " [0.]\n",
      " [0.]\n",
      " [0.]\n",
      " [0.]\n",
      " [0.]\n",
      " [0.]\n",
      " [0.]\n",
      " [0.]\n",
      " [0.]\n",
      " [1.]\n",
      " [0.]\n",
      " [0.]\n",
      " [0.]\n",
      " [1.]\n",
      " [0.]\n",
      " [0.]\n",
      " [0.]\n",
      " [0.]\n",
      " [0.]\n",
      " [0.]\n",
      " [0.]\n",
      " [0.]\n",
      " [0.]\n",
      " [0.]\n",
      " [0.]\n",
      " [1.]\n",
      " [0.]\n",
      " [1.]\n",
      " [1.]\n",
      " [0.]\n",
      " [0.]\n",
      " [0.]\n",
      " [0.]\n",
      " [0.]\n",
      " [0.]\n",
      " [1.]\n",
      " [0.]\n",
      " [0.]\n",
      " [1.]]\n"
     ]
    }
   ],
   "source": [
    "def predict(X, theta):\n",
    "    y_pred = np.zeros((X.shape[0], 1))\n",
    "    y_pred[np.where(Sigmoid(X @ theta) > 0.5)] = 1\n",
    "    return y_pred\n",
    "\n",
    "print(predict(X2, theta))"
   ]
  },
  {
   "cell_type": "markdown",
   "metadata": {},
   "source": [
    "# Affichage \n",
    "Graphe representant les acceptations selon les caracteristiques"
   ]
  },
  {
   "cell_type": "code",
   "execution_count": 172,
   "metadata": {},
   "outputs": [
    {
     "data": {
      "image/png": "[encoded data removed]",
      "text/plain": [
       "<Figure size 432x288 with 1 Axes>"
      ]
     },
     "metadata": {
      "needs_background": "light"
     },
     "output_type": "display_data"
    }
   ],
   "source": [
    "drawCircle(X, y , theta)"
   ]
  },
  {
   "cell_type": "markdown",
   "metadata": {},
   "source": [
    "Traçage du coût en fonction de theta0 et theta1"
   ]
  },
  {
   "cell_type": "code",
   "execution_count": 173,
   "metadata": {},
   "outputs": [
    {
     "data": {
      "text/plain": [
       "Text(0.5, 0, 'Cost')"
      ]
     },
     "execution_count": 173,
     "metadata": {},
     "output_type": "execute_result"
    },
    {
     "data": {
      "image/png": "[encoded data removed]",
      "text/plain": [
       "<Figure size 576x576 with 1 Axes>"
      ]
     },
     "metadata": {
      "needs_background": "light"
     },
     "output_type": "display_data"
    }
   ],
   "source": [
    "theta0 = thetas[0,:]\n",
    "theta1 = thetas[1,:]\n",
    "fig = plt.figure(figsize=(8,8))\n",
    "ax = fig.add_subplot(111, projection='3d')\n",
    "ax.scatter(theta0, theta1, costs)\n",
    "ax.plot_trisurf(theta0, theta1, costs)\n",
    "ax.set_ylabel('Theta1')\n",
    "ax.set_xlabel('Theta0')\n",
    "ax.set_zlabel('Cost')"
   ]
  },
  {
   "cell_type": "markdown",
   "metadata": {},
   "source": [
    "# Qualité du classifieur\n",
    "\n",
    "Prédire des valeurs de y\n",
    "\n",
    "Ici il serait interessant de calculer la précision de notre classifieur\n",
    "\n",
    "Essayons de calculer ça avec \n",
    "\n",
    "moyenne(y==y-pred) * 100\n",
    "\n",
    "Ceci donnera un pourcentage de precision"
   ]
  },
  {
   "cell_type": "code",
   "execution_count": 174,
   "metadata": {},
   "outputs": [
    {
     "data": {
      "text/plain": [
       "83.89830508474576"
      ]
     },
     "execution_count": 174,
     "metadata": {},
     "output_type": "execute_result"
    }
   ],
   "source": [
    "# calcul de precision = nombre de valeurs bien prédites (ici sur toute la base X)\n",
    "y_pred=predict(X2, theta)\n",
    "precision = np.mean(y==y_pred)*100\n",
    "precision"
   ]
  },
  {
   "cell_type": "markdown",
   "metadata": {},
   "source": [
    "# Vérification de l'implementation\n",
    "Comparer vos algorithmes à ceux de scikitlearn"
   ]
  },
  {
   "cell_type": "code",
   "execution_count": 175,
   "metadata": {},
   "outputs": [],
   "source": [
    "from sklearn.linear_model import LogisticRegression\n",
    "from sklearn.metrics import log_loss\n",
    "import random\n",
    "\n",
    "def compareTO_sklearn(X, y, theta): \n",
    "    comp = LogisticRegression(max_iter=8000)\n",
    "    comp.fit(X[:, 1:], np.squeeze(y, axis=1))\n",
    "    notes = random.randint(0,len(y))\n",
    "    prediction = Sigmoid(X[notes,:] @ theta)\n",
    "    lambda_ = 1\n",
    "\n",
    "    print(\"Sklearn prediction:\",int(comp.predict(X[notes,1:][None, :])))\n",
    "    print(\"Model prediction:\",int(predict(X, theta)[notes]))\n",
    "    print(\"Real value:\",int(y[notes]))\n",
    "\n",
    "    theta_sk = np.zeros(theta.shape)\n",
    "    theta_sk[1:] = comp.coef_.reshape(-1, 1)\n",
    "    theta_sk[0] = comp.intercept_[0]\n",
    "    theta_sk = np.reshape(theta_sk, (-1, 1))\n",
    "\n",
    "    print(\"\\n=== Cost error\")\n",
    "    print(\"our model error     : \", computeCost(X, y, theta, lambda_))\n",
    "    print(\"sklearn model error : \", computeCost(X, y, theta_sk, lambda_))"
   ]
  },
  {
   "cell_type": "code",
   "execution_count": 176,
   "metadata": {},
   "outputs": [
    {
     "name": "stdout",
     "output_type": "stream",
     "text": [
      "Sklearn prediction: 1\n",
      "Model prediction: 1\n",
      "Real value: 1\n",
      "\n",
      "=== Cost error\n",
      "our model error     :  1.1011276770042062\n",
      "sklearn model error :  0.5290027322656251\n"
     ]
    }
   ],
   "source": [
    "compareTO_sklearn(X2, y , theta)"
   ]
  },
  {
   "cell_type": "markdown",
   "metadata": {},
   "source": [
    "# Renforcement d'apprentissage\n",
    "Mettre ici toute idée qui pourrait renforcer votre apprentissage"
   ]
  },
  {
   "cell_type": "code",
   "execution_count": 177,
   "metadata": {},
   "outputs": [
    {
     "name": "stdout",
     "output_type": "stream",
     "text": [
      "Sklearn prediction: 0\n",
      "Model prediction: 1\n",
      "Real value: 1\n",
      "\n",
      "=== Cost error\n",
      "our model error     :  0.48764791898317494\n",
      "sklearn model error :  0.38330811884472016\n"
     ]
    }
   ],
   "source": [
    "mean, std = X2[:, 1:].mean(axis=0), X2[:, 1:].std(axis=0)\n",
    "X_std = np.zeros((X2.shape))\n",
    "X_std[:, 1:] = (X2[:, 1:] - mean) / std\n",
    "\n",
    "theta_std = np.zeros((X2.shape[1],1))\n",
    "theta_std = gradientDescent(X_std, y, theta_std, alpha, iterations, lambda_)[0]\n",
    "\n",
    "compareTO_sklearn(X_std, y, theta_std)"
   ]
  },
  {
   "cell_type": "markdown",
   "metadata": {},
   "source": [
    "# Consignes"
   ]
  },
  {
   "cell_type": "markdown",
   "metadata": {},
   "source": [
    "Le travail est à remettre par groupe de 4 au maximum [1..4].\n",
    "\n",
    "Le délai est le vendredi 01 Avril 2022 à 22h\n"
   ]
  },
  {
   "cell_type": "code",
   "execution_count": 178,
   "metadata": {},
   "outputs": [],
   "source": [
    "# bonne chance"
   ]
  }
 ],
 "metadata": {
  "kernelspec": {
   "display_name": "Python 3",
   "language": "python",
   "name": "python3"
  },
  "language_info": {
   "codemirror_mode": {
    "name": "ipython",
    "version": 3
   },
   "file_extension": ".py",
   "mimetype": "text/x-python",
   "name": "python",
   "nbconvert_exporter": "python",
   "pygments_lexer": "ipython3",
   "version": "3.9.7"
  }
 },
 "nbformat": 4,
 "nbformat_minor": 2
}
